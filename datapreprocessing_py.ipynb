{
  "nbformat": 4,
  "nbformat_minor": 0,
  "metadata": {
    "colab": {
      "provenance": [],
      "authorship_tag": "ABX9TyN6FsqluLq1WsFOsbhf94gf",
      "include_colab_link": true
    },
    "kernelspec": {
      "name": "python3",
      "display_name": "Python 3"
    },
    "language_info": {
      "name": "python"
    }
  },
  "cells": [
    {
      "cell_type": "markdown",
      "metadata": {
        "id": "view-in-github",
        "colab_type": "text"
      },
      "source": [
        "<a href=\"https://colab.research.google.com/github/janwaelty/artwork_valuation/blob/main/datapreprocessing_py.ipynb\" target=\"_parent\"><img src=\"https://colab.research.google.com/assets/colab-badge.svg\" alt=\"Open In Colab\"/></a>"
      ]
    },
    {
      "cell_type": "code",
      "execution_count": 42,
      "metadata": {
        "colab": {
          "base_uri": "https://localhost:8080/"
        },
        "id": "mpWWe1w1qRgs",
        "outputId": "b52dcaed-00b4-4415-f3e0-fc578b5e1073"
      },
      "outputs": [
        {
          "output_type": "stream",
          "name": "stdout",
          "text": [
            "Drive already mounted at /content/drive; to attempt to forcibly remount, call drive.mount(\"/content/drive\", force_remount=True).\n"
          ]
        }
      ],
      "source": [
        "from google.colab import drive\n",
        "import pandas as pd\n",
        "import numpy as np\n",
        "import matplotlib.pyplot as plt\n",
        "import seaborn as sns\n",
        "\n",
        "drive.mount('/content/drive')\n",
        "# load numeric data\n",
        "artist_data_path= \"/content/drive/My Drive/artist_graph_data.xlsx\"\n",
        "artwork_numeric_data = pd.read_excel(artist_data_path)\n",
        "\n"
      ]
    },
    {
      "cell_type": "code",
      "source": [
        "# visualize distribution of categorical variables\n",
        "\n",
        "# Count the occurrences of each artist\n",
        "artist_counts = artwork_numeric_data['artist'].value_counts()\n",
        "\n",
        "# Create a bar plot\n",
        "plt.figure(figsize=(10, 6))\n",
        "sns.barplot(x=artist_counts.index, y=artist_counts.values)\n",
        "plt.xticks(rotation=90)  # Rotate x-axis labels to avoid overlap\n",
        "plt.xlabel('Artist')\n",
        "plt.ylabel('Frequency')\n",
        "plt.title('Distribution of Artists')\n",
        "plt.show()\n",
        "\n"
      ],
      "metadata": {
        "colab": {
          "base_uri": "https://localhost:8080/",
          "height": 234
        },
        "id": "XueFy8rg6rwY",
        "outputId": "f9da8652-ab1f-4a65-ee56-5e564709f871"
      },
      "execution_count": 41,
      "outputs": [
        {
          "output_type": "error",
          "ename": "NameError",
          "evalue": "name 'sns' is not defined",
          "traceback": [
            "\u001b[0;31m---------------------------------------------------------------------------\u001b[0m",
            "\u001b[0;31mNameError\u001b[0m                                 Traceback (most recent call last)",
            "\u001b[0;32m<ipython-input-41-65d0b448dac7>\u001b[0m in \u001b[0;36m<cell line: 0>\u001b[0;34m()\u001b[0m\n\u001b[1;32m      6\u001b[0m \u001b[0;31m# Create a bar plot\u001b[0m\u001b[0;34m\u001b[0m\u001b[0;34m\u001b[0m\u001b[0m\n\u001b[1;32m      7\u001b[0m \u001b[0mplt\u001b[0m\u001b[0;34m.\u001b[0m\u001b[0mfigure\u001b[0m\u001b[0;34m(\u001b[0m\u001b[0mfigsize\u001b[0m\u001b[0;34m=\u001b[0m\u001b[0;34m(\u001b[0m\u001b[0;36m10\u001b[0m\u001b[0;34m,\u001b[0m \u001b[0;36m6\u001b[0m\u001b[0;34m)\u001b[0m\u001b[0;34m)\u001b[0m\u001b[0;34m\u001b[0m\u001b[0;34m\u001b[0m\u001b[0m\n\u001b[0;32m----> 8\u001b[0;31m \u001b[0msns\u001b[0m\u001b[0;34m.\u001b[0m\u001b[0mbarplot\u001b[0m\u001b[0;34m(\u001b[0m\u001b[0mx\u001b[0m\u001b[0;34m=\u001b[0m\u001b[0martist_counts\u001b[0m\u001b[0;34m.\u001b[0m\u001b[0mindex\u001b[0m\u001b[0;34m,\u001b[0m \u001b[0my\u001b[0m\u001b[0;34m=\u001b[0m\u001b[0martist_counts\u001b[0m\u001b[0;34m.\u001b[0m\u001b[0mvalues\u001b[0m\u001b[0;34m)\u001b[0m\u001b[0;34m\u001b[0m\u001b[0;34m\u001b[0m\u001b[0m\n\u001b[0m\u001b[1;32m      9\u001b[0m \u001b[0mplt\u001b[0m\u001b[0;34m.\u001b[0m\u001b[0mxticks\u001b[0m\u001b[0;34m(\u001b[0m\u001b[0mrotation\u001b[0m\u001b[0;34m=\u001b[0m\u001b[0;36m90\u001b[0m\u001b[0;34m)\u001b[0m  \u001b[0;31m# Rotate x-axis labels to avoid overlap\u001b[0m\u001b[0;34m\u001b[0m\u001b[0;34m\u001b[0m\u001b[0m\n\u001b[1;32m     10\u001b[0m \u001b[0mplt\u001b[0m\u001b[0;34m.\u001b[0m\u001b[0mxlabel\u001b[0m\u001b[0;34m(\u001b[0m\u001b[0;34m'Artist'\u001b[0m\u001b[0;34m)\u001b[0m\u001b[0;34m\u001b[0m\u001b[0;34m\u001b[0m\u001b[0m\n",
            "\u001b[0;31mNameError\u001b[0m: name 'sns' is not defined"
          ]
        },
        {
          "output_type": "display_data",
          "data": {
            "text/plain": [
              "<Figure size 1000x600 with 0 Axes>"
            ]
          },
          "metadata": {}
        }
      ]
    },
    {
      "cell_type": "code",
      "source": [
        "print(artwork_numeric_data.dtypes)\n",
        "\n",
        "\n",
        "\n",
        "#artwork_numeric_data[\"category\"].unique()\n",
        "#print(artwork_numeric_data[\"artist\"].nunique())\n",
        "#print(artwork_numeric_data[\"medium\"].nunique())\n",
        "#print(artwork_numeric_data[\"medium\"].unique())\n",
        "\n",
        "\n",
        "def one_hot(data):\n",
        "  # one-hot encoding for various categorical variables\n",
        "  data = pd.get_dummies(data, columns=['category', 'sale_year', 'artist',\n",
        "                                       'medium', 'sale_house'])\n",
        "  return data\n",
        "\n",
        "artwork_numeric_data = one_hot(artwork_numeric_data)\n",
        "\n",
        "\n",
        "\n",
        "\n",
        "\n",
        "\n",
        "\n"
      ],
      "metadata": {
        "colab": {
          "base_uri": "https://localhost:8080/"
        },
        "id": "jnyix1AYuJJE",
        "outputId": "e06e40b2-d373-43e6-f335-1f3a65472897"
      },
      "execution_count": 38,
      "outputs": [
        {
          "output_type": "stream",
          "name": "stdout",
          "text": [
            "category               object\n",
            "sale_year               int64\n",
            "sale_year_semi        float64\n",
            "sale_price              int64\n",
            "artist                 object\n",
            "purchase_year           int64\n",
            "purchase_year_semi    float64\n",
            "purchase_price          int64\n",
            "auction_interval      float64\n",
            "return_value          float64\n",
            "artist_num              int64\n",
            "title                  object\n",
            "sale_low_est            int64\n",
            "sale_high_est           int64\n",
            "purchase_low_est        int64\n",
            "purchase_high_est       int64\n",
            "height                  int64\n",
            "width                   int64\n",
            "medium                 object\n",
            "sale_date              object\n",
            "purchase_date          object\n",
            "mtm                     int64\n",
            "sale_house             object\n",
            "purchase_house         object\n",
            "sale_lot               object\n",
            "purchase_lot           object\n",
            "image_url              object\n",
            "dtype: object\n",
            "   sale_year_semi  sale_price  purchase_year  purchase_year_semi  \\\n",
            "0          2015.0       21643           2014              2014.5   \n",
            "1          2016.5     3007500           2014              2014.5   \n",
            "2          2018.0       21388           2017              2017.0   \n",
            "3          2020.0        9531           2019              2019.0   \n",
            "4          2016.5      211500           2016              2016.0   \n",
            "\n",
            "   purchase_price  auction_interval  return_value  artist_num  \\\n",
            "0           12657               0.5      1.923970           1   \n",
            "1          829800               2.0      0.903777           1   \n",
            "2           11798               1.0      0.812850           1   \n",
            "3            5883               1.0      0.620092           1   \n",
            "4          167867               0.5      0.587414           1   \n",
            "\n",
            "                       title  sale_low_est  ...  sale_house_SA  \\\n",
            "0            TETE DE TAUREAU          9408  ...          False   \n",
            "1         PORTRAIT DE RENART       1000000  ...          False   \n",
            "2                     LE ROI         20400  ...          False   \n",
            "3  SANS TITRE (AUTOPORTRAIT)          5500  ...          False   \n",
            "4                DEUX SOEURS        180000  ...          False   \n",
            "\n",
            "   sale_house_SBJ  sale_house_SDB  sale_house_SDH  sale_house_SHK  \\\n",
            "0           False           False           False           False   \n",
            "1           False           False           False           False   \n",
            "2           False           False           False           False   \n",
            "3           False           False           False           False   \n",
            "4           False           False           False           False   \n",
            "\n",
            "  sale_house_SL sale_house_SMI  sale_house_SP sale_house_SSP sale_house_SZH  \n",
            "0         False          False          False          False          False  \n",
            "1         False          False          False          False          False  \n",
            "2          True          False          False          False          False  \n",
            "3         False          False          False          False          False  \n",
            "4         False          False          False          False          False  \n",
            "\n",
            "[5 rows x 1077 columns]\n"
          ]
        }
      ]
    },
    {
      "cell_type": "code",
      "source": [],
      "metadata": {
        "id": "_m-A870JrSqa"
      },
      "execution_count": null,
      "outputs": []
    },
    {
      "cell_type": "code",
      "source": [],
      "metadata": {
        "id": "CvjpsY4orS5t"
      },
      "execution_count": null,
      "outputs": []
    }
  ]
}