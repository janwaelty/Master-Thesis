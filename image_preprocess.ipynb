{
  "nbformat": 4,
  "nbformat_minor": 0,
  "metadata": {
    "colab": {
      "provenance": [],
      "authorship_tag": "ABX9TyMgpOJi2PJliBXvzL2SGtmy",
      "include_colab_link": true
    },
    "kernelspec": {
      "name": "python3",
      "display_name": "Python 3"
    },
    "language_info": {
      "name": "python"
    }
  },
  "cells": [
    {
      "cell_type": "markdown",
      "metadata": {
        "id": "view-in-github",
        "colab_type": "text"
      },
      "source": [
        "<a href=\"https://colab.research.google.com/github/janwaelty/Master-Thesis/blob/main/image_preprocess.ipynb\" target=\"_parent\"><img src=\"https://colab.research.google.com/assets/colab-badge.svg\" alt=\"Open In Colab\"/></a>"
      ]
    },
    {
      "cell_type": "code",
      "execution_count": null,
      "metadata": {
        "id": "6fHQzniYnOM3"
      },
      "outputs": [],
      "source": [
        "import os\n",
        "import pandas as pd\n",
        "\n",
        "\n",
        "# Define source and destination paths\n",
        "source_path = \"/content/drive/My Drive/Colab Notebooks/image_preprocess.ipynb\"\n",
        "destination_path = \"/content/drive/My Drive/image_preprocess.ipynb\"\n",
        "\n",
        "  # Check if the source file exists before moving\n",
        "if os.path.exists(source_path):\n",
        "  # Move the file\n",
        "  shutil.move(source_path, destination_path)\n",
        "  print(f\"Notebook moved to: {destination_path}\")\n",
        "\n",
        "# Path to the Excel file containing the dataset\n",
        "artist_data_path = \"/content/drive/My Drive/artist_graph_data.xlsx\"\n",
        "artwork_numeric_data = pd.read_excel(artist_data_path)\n",
        "\n",
        "\n",
        "\n",
        "\n",
        "\n",
        "\n",
        "\n"
      ]
    },
    {
      "cell_type": "code",
      "source": [
        "def load_image_data(zip_path, image_path):\n",
        "\n",
        "  with zipfile.ZipFile(zip_path, 'r') as zip_ref:\n",
        "    file_list = zip_ref.namelist()\n",
        "\n",
        "    file_list = [f for f in file_list if not f.startswith('__MACOSX')]\n",
        "    zip_ref.extractall(extract_path, members=file_list)\n",
        "  print(f\"Dateien entpackt in: {extract_path}\")"
      ],
      "metadata": {
        "id": "CtLzwOq2oGIW"
      },
      "execution_count": null,
      "outputs": []
    },
    {
      "cell_type": "code",
      "source": [
        "# Function to check if an image file exists\n",
        "def check_image_existence(image_paths, base_dir):\n",
        "    missing_images = []  # To store paths of missing images\n",
        "    nans = 0\n",
        "    invalid_url = 0\n",
        "    for image_path in image_paths:\n",
        "        # Skip if the path is not a valid string (e.g., NaN or None)\n",
        "        if isinstance(image_path, str) and image_path.strip():  # Check if it's a valid non-empty string\n",
        "            # Construct the full image path based on the base directory\n",
        "            full_image_path = os.path.join(base_dir, image_path.lstrip('/'))  # Remove leading slash, if any\n",
        "\n",
        "            # Check if the file exists\n",
        "            if not os.path.exists(full_image_path):\n",
        "                missing_images.append(full_image_path)  # Add to missing list if not found\n",
        "                invalid_url += 1\n",
        "        else:\n",
        "            # Handle case where image_path is not a valid string (e.g., NaN or empty string)\n",
        "            nans += 1\n",
        "    print(f\"number of nans: {nans}\")\n",
        "    print(f\"missing images: {invalid_url}\")\n",
        "    return missing_images\n",
        "\n",
        "\n",
        "# Get the image paths from the dataset\n",
        "image_paths = artwork_numeric_data['image_url'].values  # Replace 'image_url' with your actual column name\n",
        "\n",
        "# Define the base directory where images are stored in Colab\n",
        "base_dir = '/content/data'\n",
        "\n",
        "# Check for missing images\n",
        "missing_images = check_image_existence(image_paths, base_dir)\n"
      ],
      "metadata": {
        "id": "AGJFpQwGn4V1"
      },
      "execution_count": null,
      "outputs": []
    },
    {
      "cell_type": "code",
      "source": [
        "if __name__ == \"__main__\":\n",
        "\n",
        "  zip_path = \"/content/drive/My Drive/pic.zip\"\n",
        "  extract_path = \"/content/data\"  # Zielordner für die entpackten Bilder"
      ],
      "metadata": {
        "id": "WOyCdDJBoRmy"
      },
      "execution_count": null,
      "outputs": []
    }
  ]
}