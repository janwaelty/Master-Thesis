{
  "nbformat": 4,
  "nbformat_minor": 0,
  "metadata": {
    "colab": {
      "provenance": [],
      "authorship_tag": "ABX9TyMiCE4CjpACivaYSKHXmody",
      "include_colab_link": true
    },
    "kernelspec": {
      "name": "python3",
      "display_name": "Python 3"
    },
    "language_info": {
      "name": "python"
    }
  },
  "cells": [
    {
      "cell_type": "markdown",
      "metadata": {
        "id": "view-in-github",
        "colab_type": "text"
      },
      "source": [
        "<a href=\"https://colab.research.google.com/github/janwaelty/Master-Thesis/blob/main/image_preprocess.ipynb\" target=\"_parent\"><img src=\"https://colab.research.google.com/assets/colab-badge.svg\" alt=\"Open In Colab\"/></a>"
      ]
    },
    {
      "cell_type": "code",
      "execution_count": 9,
      "metadata": {
        "id": "6fHQzniYnOM3"
      },
      "outputs": [],
      "source": [
        "import os\n",
        "import pandas as pd\n",
        "import zipfile\n",
        "import numpy as np\n",
        "from google.colab import drive\n",
        "import shutil\n",
        "import torchvision\n",
        "\n"
      ]
    },
    {
      "cell_type": "code",
      "source": [
        "def load_image_data(zip_path, image_path):\n",
        "\n",
        "  with zipfile.ZipFile(zip_path, 'r') as zip_ref:\n",
        "    file_list = zip_ref.namelist()\n",
        "    file_list = [f for f in file_list if not f.startswith('__MACOSX')]\n",
        "    zip_ref.extractall(extract_path, members=file_list)\n",
        "  print(f\"Dateien entpackt in: {extract_path}\")"
      ],
      "metadata": {
        "id": "CtLzwOq2oGIW"
      },
      "execution_count": 10,
      "outputs": []
    },
    {
      "cell_type": "code",
      "source": [
        "# Function to check if an image file exists\n",
        "def check_image_existence(image_paths, base_dir):\n",
        "    missing_images = []  # To store paths of missing images\n",
        "    nans = 0\n",
        "    invalid_url = 0\n",
        "    for image_path in image_paths:\n",
        "        # Skip if the path is not a valid string (e.g., NaN or None)\n",
        "        if isinstance(image_path, str) and image_path.strip():  # Check if it's a valid non-empty string\n",
        "            # Construct the full image path based on the base directory\n",
        "            full_image_path = os.path.join(base_dir, image_path.lstrip('/'))  # Remove leading slash, if any\n",
        "\n",
        "            # Check if the file exists\n",
        "            if not os.path.exists(full_image_path):\n",
        "                missing_images.append(full_image_path)  # Add to missing list if not found\n",
        "                invalid_url += 1\n",
        "        else:\n",
        "            nans += 1\n",
        "    print(f\"number of nans: {nans}\")\n",
        "    print(f\"missing images: {invalid_url}\")\n",
        "    return missing_images\n",
        "\n",
        "def filter_data_for_missing_images(data, missing_images, base_dir):\n",
        "    # Extract only relative paths from missing_images\n",
        "    data = data.dropna(subset=['image_url'])\n",
        "    missing_relative_paths = [os.path.relpath(img, base_dir) for img in missing_images]\n",
        "    data_filtered = data[~data['image_url'].str.lstrip('/').isin(missing_relative_paths)]\n",
        "\n",
        "    return data_filtered"
      ],
      "metadata": {
        "id": "AGJFpQwGn4V1"
      },
      "execution_count": 11,
      "outputs": []
    },
    {
      "cell_type": "code",
      "source": [
        "def resnet_transform():\n",
        "  return  torchvision.transforms.Compose([\n",
        "    torchvision.transforms.Resize(256),            # Resize the image to be at least 256px\n",
        "    torchvision.transforms.CenterCrop(224),        # Crop the center 224x224\n",
        "    torchvision.transforms.ToTensor(),             # Convert the image to a tensor\n",
        "    torchvision.transforms.Normalize(              # Normalize with ImageNet stats\n",
        "        mean=[0.485, 0.456, 0.406],    # ImageNet mean values\n",
        "        std=[0.229, 0.224, 0.225]      # ImageNet std values\n",
        "    )])"
      ],
      "metadata": {
        "id": "rwGO1qBfwRYE"
      },
      "execution_count": 12,
      "outputs": []
    },
    {
      "cell_type": "code",
      "source": [
        "if __name__ == \"__main__\":\n",
        "\n",
        "\n",
        "  # Mount Google Drive\n",
        "  drive.mount('/content/drive')\n",
        "\n",
        "  # Define source and destination paths\n",
        "  source_path = \"/content/drive/My Drive/Colab Notebooks/image_preprocess.ipynb\"\n",
        "  destination_path = \"/content/drive/My Drive/image_preprocess.ipynb\"\n",
        "\n",
        "  # Check if the source file exists before moving\n",
        "  if os.path.exists(source_path):\n",
        "    # Move the file\n",
        "    shutil.move(source_path, destination_path)\n",
        "    print(f\"Notebook moved to: {destination_path}\")\n",
        "\n",
        "  artist_data_path = \"/content/drive/My Drive/artist_graph_data.xlsx\"\n",
        "  artwork_numeric_data = pd.read_excel(artist_data_path)\n",
        "\n",
        "  zip_path = \"/content/drive/My Drive/pic.zip\"\n",
        "  extract_path = \"/content/data\"\n",
        "  load_image_data(zip_path, extract_path)\n",
        "  # Check for missing images\n",
        "  base_dir = \"/content/data\"\n",
        "  image_paths = artwork_numeric_data['image_url'].values\n",
        "  missing_images = check_image_existence(image_paths, base_dir)\n",
        "  data_filtered = filter_data_for_missing_images(artwork_numeric_data, missing_images, base_dir)\n",
        "  # check functioning of image data after filtering\n",
        "  print(f\"After filtering:{check_image_existence(data_filtered['image_url'],base_dir)} \")\n",
        "\n",
        "\n",
        "\n"
      ],
      "metadata": {
        "colab": {
          "base_uri": "https://localhost:8080/"
        },
        "id": "WOyCdDJBoRmy",
        "outputId": "48e1ca27-c14a-41e8-ac13-92dfcf1e5e30"
      },
      "execution_count": null,
      "outputs": [
        {
          "output_type": "stream",
          "name": "stdout",
          "text": [
            "Drive already mounted at /content/drive; to attempt to forcibly remount, call drive.mount(\"/content/drive\", force_remount=True).\n"
          ]
        }
      ]
    },
    {
      "cell_type": "code",
      "source": [],
      "metadata": {
        "id": "n8Br5H5otITJ"
      },
      "execution_count": null,
      "outputs": []
    }
  ]
}