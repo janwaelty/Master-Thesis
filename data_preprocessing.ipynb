{
  "nbformat": 4,
  "nbformat_minor": 0,
  "metadata": {
    "colab": {
      "provenance": [],
      "authorship_tag": "ABX9TyNZ0vcD2Py8iLrH9AaCDqTS",
      "include_colab_link": true
    },
    "kernelspec": {
      "name": "python3",
      "display_name": "Python 3"
    },
    "language_info": {
      "name": "python"
    }
  },
  "cells": [
    {
      "cell_type": "markdown",
      "metadata": {
        "id": "view-in-github",
        "colab_type": "text"
      },
      "source": [
        "<a href=\"https://colab.research.google.com/github/janwaelty/artwork_valuation/blob/main/data_preprocessing.ipynb\" target=\"_parent\"><img src=\"https://colab.research.google.com/assets/colab-badge.svg\" alt=\"Open In Colab\"/></a>"
      ]
    },
    {
      "cell_type": "markdown",
      "source": [
        "\n",
        "#Neural Networks and the Art Market: A Deep Learning Approach to Valuation\n",
        "#   **Numerical-features-only model**"
      ],
      "metadata": {
        "id": "3WBBRYKw_muB"
      }
    },
    {
      "cell_type": "markdown",
      "source": [
        "**1. Library and data import**"
      ],
      "metadata": {
        "id": "8q4D54d6Cshl"
      }
    },
    {
      "cell_type": "code",
      "execution_count": 37,
      "metadata": {
        "colab": {
          "base_uri": "https://localhost:8080/"
        },
        "id": "mpWWe1w1qRgs",
        "outputId": "db315a53-9d23-47a4-c0d3-9b199157ba63"
      },
      "outputs": [
        {
          "output_type": "stream",
          "name": "stdout",
          "text": [
            "Drive already mounted at /content/drive; to attempt to forcibly remount, call drive.mount(\"/content/drive\", force_remount=True).\n"
          ]
        }
      ],
      "source": [
        "from google.colab import drive\n",
        "import pandas as pd\n",
        "import numpy as np\n",
        "import matplotlib.pyplot as plt\n",
        "import seaborn as sns\n",
        "from sklearn.feature_extraction.text import TfidfVectorizer\n",
        "from sklearn.preprocessing import StandardScaler\n",
        "import re\n",
        "import torch\n",
        "import torch.nn as nn\n",
        "\n",
        "\n",
        "\n",
        "drive.mount('/content/drive')\n",
        "artist_data_path= \"/content/drive/My Drive/artist_graph_data.xlsx\"\n",
        "artwork_numeric_data = pd.read_excel(artist_data_path)\n"
      ]
    },
    {
      "cell_type": "markdown",
      "source": [
        "**2. Data preprocessing**"
      ],
      "metadata": {
        "id": "zCmnZDKnBM-v"
      }
    },
    {
      "cell_type": "code",
      "source": [
        "def repeated_to_single_transactions(df):\n",
        "    \"\"\"\n",
        "    Transforms a dataset by splitting purchase and sale data into separate rows\n",
        "    and renaming columns for consistency.\n",
        "    \"\"\"\n",
        "    # Columns to keep (common info)\n",
        "    common_columns = ['category', 'artist', 'height', 'width', 'medium']\n",
        "\n",
        "    # Sale Data: Keep only relevant columns\n",
        "    sale_data = df[common_columns + ['sale_year_semi', 'sale_price',\n",
        "                                     'sale_house']].copy()\n",
        "    sale_data = sale_data.rename(columns={\n",
        "        'sale_year_semi': 'transaction_year_semi',\n",
        "        'sale_price': 'transaction_price',\n",
        "        'sale_house': 'transaction_house'\n",
        "    })\n",
        "\n",
        "\n",
        "    # Purchase Data: Keep only relevant columns\n",
        "    purchase_data = df[common_columns + ['purchase_year_semi', 'purchase_price',\n",
        "                                         'purchase_house']].copy()\n",
        "    purchase_data = purchase_data.rename(columns={\n",
        "        'purchase_year_semi': 'transaction_year_semi',\n",
        "        'purchase_price': 'transaction_price',\n",
        "        'purchase_house': 'transaction_house'\n",
        "    })\n",
        "\n",
        "    final_df = pd.concat([sale_data, purchase_data], ignore_index=True)\n",
        "\n",
        "    return final_df\n",
        "\n",
        "\n",
        "def one_hot(data, vars):\n",
        "  # one-hot encoding for various categorical variables\n",
        "  df = data.copy()\n",
        "  return pd.get_dummies(df, columns=vars)\n",
        "\n",
        "\n",
        "def select_cols(data, vars):\n",
        "  # remove entries with missing values and return selected columns\n",
        "  df = data.copy()\n",
        "  df.dropna(axis=0, how='any', inplace=True)\n",
        "  return df[vars]\n",
        "\n"
      ],
      "metadata": {
        "id": "jnyix1AYuJJE"
      },
      "execution_count": 38,
      "outputs": []
    },
    {
      "cell_type": "code",
      "source": [
        "# check transformations\n",
        "\n",
        "print(artwork_numeric_data.columns)\n",
        "\n",
        "cols = ['category', 'sale_year_semi', 'sale_price', 'artist',\n",
        "        'purchase_year_semi', 'purchase_price', 'height', 'width',\n",
        "        'medium', 'sale_house', 'purchase_house']\n",
        "\n",
        "data_check = select_cols(artwork_numeric_data.copy(), cols)\n",
        "print(data_check.columns)\n",
        "print(data_check.head())\n",
        "\n",
        "data_check = repeated_to_single_transactions(data_check)\n",
        "print(data_check)\n",
        "print(data_check.head())\n",
        "\n",
        "\n"
      ],
      "metadata": {
        "colab": {
          "base_uri": "https://localhost:8080/"
        },
        "id": "bn-ZXCjLwX7B",
        "outputId": "51448235-0388-46ac-e6ea-ba372c153dc0"
      },
      "execution_count": 34,
      "outputs": [
        {
          "output_type": "stream",
          "name": "stdout",
          "text": [
            "Index(['category', 'sale_year', 'sale_year_semi', 'sale_price', 'artist',\n",
            "       'purchase_year', 'purchase_year_semi', 'purchase_price',\n",
            "       'auction_interval', 'return_value', 'artist_num', 'title',\n",
            "       'sale_low_est', 'sale_high_est', 'purchase_low_est',\n",
            "       'purchase_high_est', 'height', 'width', 'medium', 'sale_date',\n",
            "       'purchase_date', 'mtm', 'sale_house', 'purchase_house', 'sale_lot',\n",
            "       'purchase_lot', 'image_url'],\n",
            "      dtype='object')\n",
            "Index(['category', 'sale_year_semi', 'sale_price', 'artist',\n",
            "       'purchase_year_semi', 'purchase_price', 'height', 'width', 'medium',\n",
            "       'sale_house', 'purchase_house'],\n",
            "      dtype='object')\n",
            "  category  sale_year_semi  sale_price   artist  purchase_year_semi  \\\n",
            "0      IMP          2015.0       21643  PICASSO              2014.5   \n",
            "1      IMP          2016.5     3007500  PICASSO              2014.5   \n",
            "2      IMP          2018.0       21388  PICASSO              2017.0   \n",
            "3      IMP          2020.0        9531  PICASSO              2019.0   \n",
            "4      IMP          2016.5      211500  PICASSO              2016.0   \n",
            "\n",
            "   purchase_price  height  width medium sale_house purchase_house  \n",
            "0           12657       7      4      D         CL              O  \n",
            "1          829800      18     15     OC          C              O  \n",
            "2           11798       7      7      O         SL              O  \n",
            "3            5883       4      6      O         CP             SP  \n",
            "4          167867      24     18      D          C             CL  \n",
            "      category      artist  height  width medium  transaction_year_semi  \\\n",
            "0          IMP     PICASSO       7      4      D                 2015.0   \n",
            "1          IMP     PICASSO      18     15     OC                 2016.5   \n",
            "2          IMP     PICASSO       7      7      O                 2018.0   \n",
            "3          IMP     PICASSO       4      6      O                 2020.0   \n",
            "4          IMP     PICASSO      24     18      D                 2016.5   \n",
            "...        ...         ...     ...    ...    ...                    ...   \n",
            "75601      PWC  ZENDEROUDI      35     52      O                 2009.5   \n",
            "75602      PWC  ZENDEROUDI      77     38      O                 2009.0   \n",
            "75603      PWC  ZENDEROUDI      77     38      O                 2009.0   \n",
            "75604      PWC  ZENDEROUDI      57     45      O                 2008.0   \n",
            "75605      PWC  ZENDEROUDI      45     64      O                 2015.5   \n",
            "\n",
            "       transaction_price transaction_house  \n",
            "0                  21643                CL  \n",
            "1                3007500                 C  \n",
            "2                  21388                SL  \n",
            "3                   9531                CP  \n",
            "4                 211500                 C  \n",
            "...                  ...               ...  \n",
            "75601              98500               CDB  \n",
            "75602             206500               CDB  \n",
            "75603             206500               CDB  \n",
            "75604             336000     Bonhams Dubai  \n",
            "75605             365000               CDB  \n",
            "\n",
            "[75606 rows x 8 columns]\n",
            "  category   artist  height  width medium  transaction_year_semi  \\\n",
            "0      IMP  PICASSO       7      4      D                 2015.0   \n",
            "1      IMP  PICASSO      18     15     OC                 2016.5   \n",
            "2      IMP  PICASSO       7      7      O                 2018.0   \n",
            "3      IMP  PICASSO       4      6      O                 2020.0   \n",
            "4      IMP  PICASSO      24     18      D                 2016.5   \n",
            "\n",
            "   transaction_price transaction_house  \n",
            "0              21643                CL  \n",
            "1            3007500                 C  \n",
            "2              21388                SL  \n",
            "3               9531                CP  \n",
            "4             211500                 C  \n"
          ]
        }
      ]
    },
    {
      "cell_type": "markdown",
      "source": [
        "**3.Data distributions**\n"
      ],
      "metadata": {
        "id": "wPZzKD_Y_lTK"
      }
    },
    {
      "cell_type": "code",
      "source": [
        "# List of categorical variables\n",
        "categorical_columns = ['category', 'sale_year_semi'\n",
        "                                      ]\n",
        "\n",
        "\n",
        "print(one_hot(artwork_numeric_data, categorical_columns))\n",
        "\n",
        "# get minimum occurence per variable\n",
        "for idx, var in enumerate(categorical_columns):\n",
        "  counts = artwork_numeric_data[var].value_counts()\n",
        "  print(f\"Minimum {var} occurence is {min(counts)}\")\n",
        "\n",
        "\n",
        "\n",
        "# visualize distribution of categorical variables\n",
        "fig, axes = plt.subplots(1, len(categorical_columns), figsize=(15, 5))\n",
        "\n",
        "\n",
        "for i, column in enumerate(categorical_columns):\n",
        "    ax = axes[i]\n",
        "    sns.countplot(x=column, data=artwork_numeric_data, ax=ax)\n",
        "    ax.set_title(f'Distribution of {column}')\n",
        "    ax.set_xlabel(column)\n",
        "    ax.set_ylabel('Count')\n",
        "    ax.tick_params(axis='x', rotation=45)\n",
        "\n",
        "\n",
        "plt.tight_layout()\n",
        "plt.show()\n",
        "\n",
        "\n"
      ],
      "metadata": {
        "colab": {
          "base_uri": "https://localhost:8080/",
          "height": 1000
        },
        "id": "XueFy8rg6rwY",
        "outputId": "ae282d33-d4ad-4968-cc28-3c1ed4f8ec7b"
      },
      "execution_count": 39,
      "outputs": [
        {
          "output_type": "stream",
          "name": "stdout",
          "text": [
            "       sale_year  sale_price      artist  purchase_year  purchase_year_semi  \\\n",
            "0           2015       21643     PICASSO           2014              2014.5   \n",
            "1           2016     3007500     PICASSO           2014              2014.5   \n",
            "2           2018       21388     PICASSO           2017              2017.0   \n",
            "3           2020        9531     PICASSO           2019              2019.0   \n",
            "4           2016      211500     PICASSO           2016              2016.0   \n",
            "...          ...         ...         ...            ...                 ...   \n",
            "39024       2021       69552  ZENDEROUDI           2009              2009.5   \n",
            "39025       2023      115642  ZENDEROUDI           2009              2009.0   \n",
            "39026       2022      111922  ZENDEROUDI           2009              2009.0   \n",
            "39027       2020      135000  ZENDEROUDI           2008              2008.0   \n",
            "39028       2019      212500  ZENDEROUDI           2015              2015.5   \n",
            "\n",
            "       purchase_price  auction_interval  return_value  artist_num  \\\n",
            "0               12657               0.5      1.923970           1   \n",
            "1              829800               2.0      0.903777           1   \n",
            "2               11798               1.0      0.812850           1   \n",
            "3                5883               1.0      0.620092           1   \n",
            "4              167867               0.5      0.587414           1   \n",
            "...               ...               ...           ...         ...   \n",
            "39024           98500              11.5     -0.029806         969   \n",
            "39025          206500              14.5     -0.039197         969   \n",
            "39026          206500              13.5     -0.044356         969   \n",
            "39027          336000              12.5     -0.070350         969   \n",
            "39028          365000               3.5     -0.143207         969   \n",
            "\n",
            "                           title  ...  sale_year_semi_2020.0  \\\n",
            "0                TETE DE TAUREAU  ...                  False   \n",
            "1             PORTRAIT DE RENART  ...                  False   \n",
            "2                         LE ROI  ...                  False   \n",
            "3      SANS TITRE (AUTOPORTRAIT)  ...                   True   \n",
            "4                    DEUX SOEURS  ...                  False   \n",
            "...                          ...  ...                    ...   \n",
            "39024        SHOLEH SHOLEH SHABB  ...                  False   \n",
            "39025             WAV + WAV + VE  ...                  False   \n",
            "39026             WAV + WAV + VE  ...                  False   \n",
            "39027                   UNTITLED  ...                  False   \n",
            "39028                       SAAD  ...                  False   \n",
            "\n",
            "       sale_year_semi_2020.5  sale_year_semi_2021.0  sale_year_semi_2021.5  \\\n",
            "0                      False                  False                  False   \n",
            "1                      False                  False                  False   \n",
            "2                      False                  False                  False   \n",
            "3                      False                  False                  False   \n",
            "4                      False                  False                  False   \n",
            "...                      ...                    ...                    ...   \n",
            "39024                  False                   True                  False   \n",
            "39025                  False                  False                  False   \n",
            "39026                  False                  False                  False   \n",
            "39027                   True                  False                  False   \n",
            "39028                  False                  False                  False   \n",
            "\n",
            "       sale_year_semi_2022.0  sale_year_semi_2022.5 sale_year_semi_2023.0  \\\n",
            "0                      False                  False                 False   \n",
            "1                      False                  False                 False   \n",
            "2                      False                  False                 False   \n",
            "3                      False                  False                 False   \n",
            "4                      False                  False                 False   \n",
            "...                      ...                    ...                   ...   \n",
            "39024                  False                  False                 False   \n",
            "39025                  False                  False                 False   \n",
            "39026                  False                   True                 False   \n",
            "39027                  False                  False                 False   \n",
            "39028                  False                  False                 False   \n",
            "\n",
            "      sale_year_semi_2023.5 sale_year_semi_2024.0  sale_year_semi_2024.5  \n",
            "0                     False                 False                  False  \n",
            "1                     False                 False                  False  \n",
            "2                     False                 False                  False  \n",
            "3                     False                 False                  False  \n",
            "4                     False                 False                  False  \n",
            "...                     ...                   ...                    ...  \n",
            "39024                 False                 False                  False  \n",
            "39025                  True                 False                  False  \n",
            "39026                 False                 False                  False  \n",
            "39027                 False                 False                  False  \n",
            "39028                 False                 False                  False  \n",
            "\n",
            "[39029 rows x 82 columns]\n",
            "Minimum category occurence is 75\n",
            "Minimum sale_year_semi occurence is 95\n"
          ]
        },
        {
          "output_type": "display_data",
          "data": {
            "text/plain": [
              "<Figure size 1500x500 with 2 Axes>"
            ],
            "image/png": "[encoded data removed]"
          },
          "metadata": {}
        }
      ]
    },
    {
      "cell_type": "markdown",
      "source": [
        "**4. Data split**"
      ],
      "metadata": {
        "id": "XHkSqLUM6LSM"
      }
    },
    {
      "cell_type": "code",
      "source": [
        "import pandas as pd\n",
        "from sklearn.preprocessing import StandardScaler\n",
        "\n",
        "import pandas as pd\n",
        "\n",
        "def data_split(df):\n",
        "    \"\"\"\n",
        "    Splits the dataset into training and testing sets based on the last semi-year.\n",
        "\n",
        "    Parameters:\n",
        "    df (pd.DataFrame): DataFrame with transaction data, including 'transaction_year_semi' and 'transaction_price'.\n",
        "\n",
        "    Returns:\n",
        "    X_train, X_test, y_train, y_test: Features and target variables for training and testing.\n",
        "    \"\"\"\n",
        "\n",
        "    last_semi_year_col = df.columns[-1]  # This is typically the most recent category column after dummies\n",
        "\n",
        "    # Split the data into training and testing sets based on the dummy columns\n",
        "    train_data = df[df[last_semi_year_col] == 0]  # Train set (those where the dummy variable is 0)\n",
        "    test_data = df[df[last_semi_year_col] == 1]\n",
        "\n",
        "    # Prepare X and y for both training and testing\n",
        "    X_train = train_data.drop(columns='transaction_price')\n",
        "    y_train = train_data['transaction_price']\n",
        "    X_test = test_data.drop(columns='transaction_price')\n",
        "    y_test = test_data['transaction_price']\n",
        "\n",
        "    # Ensure both X_train and X_test have the same columns (after dummy creation)\n",
        "    X_train, X_test = X_train.align(X_test, join='left', axis=1, fill_value=0)\n",
        "    numerical_features = ['height', 'width']\n",
        "    X_train, X_test = standardization(X_train, X_test, numerical_features)\n",
        "\n",
        "\n",
        "    return X_train, X_test, y_train, y_test\n",
        "\n",
        "def standardization(train, test, numerical_features):\n",
        "    Train, Test = train.copy(), test.copy()\n",
        "    # Apply the scaler only to the specified numerical features\n",
        "    scaler = StandardScaler()\n",
        "    train[numerical_features] = scaler.fit_transform(train[numerical_features])\n",
        "    test[numerical_features] = scaler.transform(test[numerical_features])\n",
        "\n",
        "    return train, test\n",
        "\n",
        "def get_data_for_nn(data, selected_vars, dummy_vars):\n",
        "  \"\"\"\n",
        "  Returns data in correct format for NN\n",
        "  Params: data set, predictors and target, categorical variables for one-hot\n",
        "          encoding (without transact)\n",
        "  \"\"\"\n",
        "  df = data.copy()\n",
        "  # select columns\n",
        "  df = select_cols(df,selected_vars)\n",
        "  # get single transaction format and one-hot_format\n",
        "  df = repeated_to_single_transactions(df)\n",
        "  df = one_hot(data, dummy_vars)\n",
        "  X_train, X_test, y_train, y_test =  data_split(df)\n",
        "\n",
        "  return torch.tensor(X_train.values, dtype=torch.float32), torch.tensor(X_test.values, dtype=torch.float32), torch.tensor(y_train.values, dtype=torch.float32),torch.tensor(y_test.values, dtype=torch.float32)\n",
        "\n",
        "\n",
        "\n"
      ],
      "metadata": {
        "id": "poUgV3sH6K1T"
      },
      "execution_count": 40,
      "outputs": []
    },
    {
      "cell_type": "code",
      "source": [
        "print(artwork_numeric_data.shape)\n",
        "\"\"\"\n",
        "def preprocess_title(title):\n",
        "    title = title.lower()  # Convert to lowercase\n",
        "    title = re.sub(r'[^\\w\\s]', '', title)  # Remove non-alphanumeric characters\n",
        "    return title\n",
        "\n",
        "# Apply preprocessing\n",
        "artwork_numeric_data['title'] = artwork_numeric_data['title'].apply(preprocess_title)\n",
        "\n",
        "# Handle missing values in title before applying TF-IDF\n",
        "artwork_numeric_data['title'] = artwork_numeric_data['title'].fillna('')  # Fill NaNs with empty string\n",
        "\n",
        "\n",
        "\n",
        "# Apply TF-IDF on the 'title' column\n",
        "def tf_vectorizer(data):\n",
        "    tfidf = TfidfVectorizer(max_df=0.9, min_df=10)\n",
        "    tfidf_matrix = tfidf.fit_transform(data['title'])  # Apply TF-IDF transformation\n",
        "    tfidf_df = pd.DataFrame(tfidf_matrix.toarray(), columns=tfidf.get_feature_names_out())\n",
        "\n",
        "    return pd.concat([data, tfidf_df], axis=1)\n",
        "\n",
        "\n",
        "\n",
        "\n",
        "artwork_numeric_data = tf_vectorizer(artwork_numeric_data)\n",
        "\"\"\"\n"
      ],
      "metadata": {
        "id": "_m-A870JrSqa",
        "colab": {
          "base_uri": "https://localhost:8080/",
          "height": 144
        },
        "outputId": "669475a6-b481-4185-9ff4-3f3d2e4d8d4d"
      },
      "execution_count": 23,
      "outputs": [
        {
          "output_type": "stream",
          "name": "stdout",
          "text": [
            "(75606, 8)\n"
          ]
        },
        {
          "output_type": "execute_result",
          "data": {
            "text/plain": [
              "\"\\ndef preprocess_title(title):\\n    title = title.lower()  # Convert to lowercase\\n    title = re.sub(r'[^\\\\w\\\\s]', '', title)  # Remove non-alphanumeric characters\\n    return title\\n\\n# Apply preprocessing\\nartwork_numeric_data['title'] = artwork_numeric_data['title'].apply(preprocess_title)\\n\\n# Handle missing values in title before applying TF-IDF\\nartwork_numeric_data['title'] = artwork_numeric_data['title'].fillna('')  # Fill NaNs with empty string\\n\\n\\n\\n# Apply TF-IDF on the 'title' column\\ndef tf_vectorizer(data):\\n    tfidf = TfidfVectorizer(max_df=0.9, min_df=10)\\n    tfidf_matrix = tfidf.fit_transform(data['title'])  # Apply TF-IDF transformation\\n    tfidf_df = pd.DataFrame(tfidf_matrix.toarray(), columns=tfidf.get_feature_names_out())\\n\\n    return pd.concat([data, tfidf_df], axis=1)\\n\\n\\n\\n\\nartwork_numeric_data = tf_vectorizer(artwork_numeric_data)\\n\""
            ],
            "application/vnd.google.colaboratory.intrinsic+json": {
              "type": "string"
            }
          },
          "metadata": {},
          "execution_count": 23
        }
      ]
    },
    {
      "cell_type": "markdown",
      "source": [
        "**5. Model training**"
      ],
      "metadata": {
        "id": "eTg0EAZuLJ9A"
      }
    },
    {
      "cell_type": "code",
      "source": [
        "class Numerical_Model(nn.Module):\n",
        "\n",
        "    def __init__(self, in_features, h1, h2, h3,  out_features=1):\n",
        "        super().__init__()\n",
        "        self.fc1 = nn.Linear(in_features, h1)\n",
        "        self.fc2 = nn.Linear(h1,h2)\n",
        "        self.fc3 = nn.Linear(h2, h3)\n",
        "        self.out = nn.Linear(h3, out_features)\n",
        "\n",
        "    def forward(self, x):\n",
        "        x = self.relu(self.fc1(x))\n",
        "        x = self.relu(self.fc2(x))\n",
        "        x = self.relu(self.fc3(x))\n",
        "        x = self.out(x)\n",
        "        return x\n",
        "\n",
        "\n",
        "def train(network, trainloader, epochs = 100, eta = 0.01, momentum = 0.9):\n",
        "    optimizer = torch.optim.SGD(params = network.parameters(), lr = eta,\n",
        "                                momentum = momentum)\n",
        "    device = torch.device(\"cuda\" if torch.cuda.is_available() else \"cpu\")\n",
        "    network = network.to(device)\n",
        "    loss = torch.nn.MSELoss()\n",
        "    for epoch in epochs:\n",
        "      # train network on training data\n",
        "      for x, t in trainloader:\n",
        "        network.train()\n",
        "        optimizer.zero_grad()\n",
        "        z = network(x.to(device))\n",
        "        J = loss(z, t.to(device))\n",
        "        J.backward()\n",
        "        optimizer.step()\n",
        "      # test on validation data\n",
        "\n",
        "\n",
        "\n",
        "\n",
        "\n",
        "\n",
        "\n"
      ],
      "metadata": {
        "id": "CvjpsY4orS5t"
      },
      "execution_count": 36,
      "outputs": []
    }
  ]
}