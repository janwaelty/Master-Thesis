{
  "nbformat": 4,
  "nbformat_minor": 0,
  "metadata": {
    "colab": {
      "provenance": [],
      "authorship_tag": "ABX9TyPWCoL5+flwwLjOa4I7aKG3",
      "include_colab_link": true
    },
    "kernelspec": {
      "name": "python3",
      "display_name": "Python 3"
    },
    "language_info": {
      "name": "python"
    }
  },
  "cells": [
    {
      "cell_type": "markdown",
      "metadata": {
        "id": "view-in-github",
        "colab_type": "text"
      },
      "source": [
        "<a href=\"https://colab.research.google.com/github/janwaelty/Master-Thesis/blob/main/visual_model.ipynb\" target=\"_parent\"><img src=\"https://colab.research.google.com/assets/colab-badge.svg\" alt=\"Open In Colab\"/></a>"
      ]
    },
    {
      "cell_type": "markdown",
      "source": [
        "# **Neural Networks and the Art Market: A Deep Learning Approach to Valuation**\n"
      ],
      "metadata": {
        "id": "8oocVS2jJf51"
      }
    },
    {
      "cell_type": "code",
      "source": [
        "\n",
        "import os\n",
        "import shutil\n",
        "from google.colab import drive\n",
        "drive.mount('/content/drive')\n",
        "import pandas as pd\n",
        "import numpy as np\n",
        "import matplotlib.pyplot as plt\n",
        "import seaborn as sns\n",
        "from sklearn.preprocessing import StandardScaler\n",
        "import re\n",
        "import torch\n",
        "import torch.nn as nn\n",
        "from torch.utils.data import Dataset, DataLoader\n",
        "from scipy.stats import linregress\n",
        "from sklearn.metrics import r2_score\n",
        "from sklearn.linear_model import LinearRegression\n",
        "from sklearn.metrics import mean_squared_error\n",
        "from sklearn.preprocessing import MinMaxScaler\n",
        "from torchvision import datasets, transforms\n",
        "import shutil\n",
        "import os\n",
        "from google.colab import drive\n",
        "import zipfile\n",
        "\n",
        "# Define source and destination paths\n",
        "source_path = \"/content/drive/My Drive/Colab Notebooks/visual_model.ipynb\"\n",
        "destination_path = \"/content/drive/My Drive/visual_model.ipynb\"\n",
        "\n",
        "  # Check if the source file exists before moving\n",
        "if os.path.exists(source_path):\n",
        "  # Move the file\n",
        "  shutil.move(source_path, destination_path)\n",
        "  print(f\"Notebook moved to: {destination_path}\")\n",
        "\n",
        "!cp /content/drive/My\\ Drive/data_preprocess.py /content/\n",
        "\n",
        "from data_preprocess import (\n",
        "    data_split as data_split,\n",
        "    fit_visualization as fit_visualization,\n",
        "    repeated_to_single_transactions as repeated_to_single_transactions,\n",
        "    one_hot as one_hot,\n",
        "    standardization as standardization,\n",
        "    data_filter as data_filter,\n",
        "    add_prev_avg_price as add_prev_avg_price,\n",
        "    standardization as standardization\n",
        ")\n",
        "\n",
        "\n",
        "\n"
      ],
      "metadata": {
        "id": "rMXm7w_zJoNI",
        "colab": {
          "base_uri": "https://localhost:8080/"
        },
        "outputId": "67750398-1693-471a-c36f-97235a20ba10"
      },
      "execution_count": 4,
      "outputs": [
        {
          "output_type": "stream",
          "name": "stdout",
          "text": [
            "Drive already mounted at /content/drive; to attempt to forcibly remount, call drive.mount(\"/content/drive\", force_remount=True).\n"
          ]
        }
      ]
    },
    {
      "cell_type": "code",
      "source": [
        "from PIL import Image\n",
        "import torch\n",
        "from torchvision import transforms\n",
        "import os\n",
        "\n",
        "\n",
        "\n",
        "class MixedTransactionDataset(torch.utils.data.Dataset):\n",
        "    def __init__(self, X, y, transform=None):\n",
        "        # Ensure numerical data is in float32 format\n",
        "        self.X = X.reset_index(drop=True).values.astype('float32')  # Convert X to numpy array\n",
        "        self.y = y.reset_index(drop=True).values.astype('float32')  # Convert y to numpy array\n",
        "        self.image_paths = X['image_url'].values\n",
        "\n",
        "        # Drop the 'image_url' column from X after extracting the paths\n",
        "        self.X = X.drop(columns=['image_url']).reset_index(drop=True).values.astype('float32')\n",
        "\n",
        "        self.transform = transform\n",
        "\n",
        "    def __getitem__(self, index):\n",
        "        # Get numerical features (X) and target values (y)\n",
        "        x = torch.tensor(self.X[index], dtype=torch.float32)\n",
        "        y = torch.tensor(self.y[index], dtype=torch.float32)\n",
        "\n",
        "        # Get the image path (image_url) and open the image\n",
        "        image_path = self.image_paths[index]\n",
        "\n",
        "\n",
        "        # If it's a local path, open the image directly\n",
        "        image = Image.open(image_path)\n",
        "\n",
        "        # Apply any transformations if provided (resize, normalization, etc.)\n",
        "        if self.transform:\n",
        "            image = self.transform(image)\n",
        "\n",
        "        return x, y, image\n",
        "\n",
        "    def __len__(self):\n",
        "        return len(self.X)\n",
        "\n",
        "\n",
        "\n"
      ],
      "metadata": {
        "id": "BvdRIbG0ZItE"
      },
      "execution_count": null,
      "outputs": []
    },
    {
      "cell_type": "markdown",
      "source": [
        "**Load zip file with images**"
      ],
      "metadata": {
        "id": "w110-grDq7OZ"
      }
    },
    {
      "cell_type": "code",
      "source": [
        "\n",
        "# Pfad zur ZIP-Datei auf Google Drive\n",
        "zip_path = \"/content/drive/My Drive/pic.zip\"\n",
        "extract_path = \"/content/data\"  # Zielordner für die entpackten Bilder\n",
        "\n",
        "# Entpacken und die '_MACOSX' Ordner überspringen\n",
        "with zipfile.ZipFile(zip_path, 'r') as zip_ref:\n",
        "    # Liste der Dateien im ZIP-Archiv\n",
        "    file_list = zip_ref.namelist()\n",
        "\n",
        "    # Filtern der _MACOSX Ordner und unnötiger Dateien\n",
        "    file_list = [f for f in file_list if not f.startswith('__MACOSX')]\n",
        "\n",
        "    # Entpacken der relevanten Dateien\n",
        "    zip_ref.extractall(extract_path, members=file_list)\n",
        "\n",
        "# Überprüfen, ob das Entpacken erfolgreich war\n",
        "print(f\"Dateien entpackt in: {extract_path}\")"
      ],
      "metadata": {
        "colab": {
          "base_uri": "https://localhost:8080/"
        },
        "id": "rUnAK-AkMSrN",
        "outputId": "eb312058-930e-4b82-ece9-0536602e0e37",
        "collapsed": true
      },
      "execution_count": 5,
      "outputs": [
        {
          "output_type": "stream",
          "name": "stdout",
          "text": [
            "Dateien entpackt in: /content/data\n"
          ]
        }
      ]
    },
    {
      "cell_type": "code",
      "source": [
        "\"\"\"\n",
        "2import os\n",
        "import shutil\n",
        "from google.colab import drive\n",
        "\n",
        "# Google Drive mounten\n",
        "drive.mount('/content/drive')\n",
        "\n",
        "# Pfad zur ZIP-Datei auf Google Drive\n",
        "zip_path = \"/content/drive/My Drive/pic.zip\"\n",
        "extract_path = \"/content/data/pic\"  # Zielordner für die entpackten Bilder\n",
        "output_path = \"/content/data/all_images\"  # Zielordner für alle Bilder\n",
        "\n",
        "# Entpacken der ZIP-Datei (wie vorher)\n",
        "with zipfile.ZipFile(zip_path, 'r') as zip_ref:\n",
        "    file_list = zip_ref.namelist()\n",
        "    file_list = [f for f in file_list if not f.startswith('__MACOSX')]  # Überspringen von _MACOSX\n",
        "    zip_ref.extractall(extract_path, members=file_list)\n",
        "\n",
        "# Ordner erstellen, in dem alle Bilder zusammenkommen\n",
        "os.makedirs(output_path, exist_ok=True)\n",
        "\n",
        "# Alle Bilder aus den Unterordnern zusammenführen\n",
        "for subfolder in os.listdir(extract_path):\n",
        "    subfolder_path = os.path.join(extract_path, subfolder)\n",
        "    if os.path.isdir(subfolder_path):\n",
        "        # Alle Dateien im Unterordner auflisten\n",
        "        for filename in os.listdir(subfolder_path):\n",
        "            file_path = os.path.join(subfolder_path, filename)\n",
        "            if os.path.isfile(file_path):\n",
        "                # Datei in den gemeinsamen Ordner verschieben\n",
        "                shutil.move(file_path, os.path.join(output_path, filename))\n",
        "\n",
        "# Überprüfen, ob alles erfolgreich verschoben wurde\n",
        "print(f\"Alle Bilder befinden sich jetzt im Ordner: {output_path}\")\n",
        "print(f\"Verzeichnisinhalt: {os.listdir(output_path)}\")\n"
      ],
      "metadata": {
        "id": "PJX6uc81r7LU"
      },
      "execution_count": null,
      "outputs": []
    },
    {
      "cell_type": "code",
      "source": [
        "if __name__ == 'main':\n",
        "  # Mount Google Drive\n",
        "  drive.mount('/content/drive')"
      ],
      "metadata": {
        "id": "gOKqadylbp--"
      },
      "execution_count": null,
      "outputs": []
    }
  ]
}